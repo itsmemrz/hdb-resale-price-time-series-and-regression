{
 "cells": [
  {
   "cell_type": "code",
   "execution_count": 1,
   "metadata": {},
   "outputs": [],
   "source": [
    "import matplotlib.pyplot as plt\n",
    "import pandas as pd\n",
    "import numpy as np\n",
    "import scipy\n",
    "import scipy.stats as stats\n",
    "import seaborn as sns\n",
    "import warnings\n",
    "import datetime as dt\n",
    "from datetime import timedelta\n",
    "warnings.filterwarnings('ignore')\n",
    "\n",
    "sns.set()"
   ]
  },
  {
   "cell_type": "code",
   "execution_count": 2,
   "metadata": {},
   "outputs": [],
   "source": [
    "%store -r cleandata\n",
    "%store -r sarima_result\n",
    "%store -r price_trend"
   ]
  },
  {
   "cell_type": "code",
   "execution_count": 3,
   "metadata": {},
   "outputs": [
    {
     "data": {
      "text/html": [
       "<div>\n",
       "<style scoped>\n",
       "    .dataframe tbody tr th:only-of-type {\n",
       "        vertical-align: middle;\n",
       "    }\n",
       "\n",
       "    .dataframe tbody tr th {\n",
       "        vertical-align: top;\n",
       "    }\n",
       "\n",
       "    .dataframe thead th {\n",
       "        text-align: right;\n",
       "    }\n",
       "</style>\n",
       "<table border=\"1\" class=\"dataframe\">\n",
       "  <thead>\n",
       "    <tr style=\"text-align: right;\">\n",
       "      <th></th>\n",
       "      <th>resale_date</th>\n",
       "      <th>resale_year</th>\n",
       "      <th>resale_month</th>\n",
       "      <th>lease_commence_year</th>\n",
       "      <th>remaining_lease</th>\n",
       "      <th>town</th>\n",
       "      <th>block</th>\n",
       "      <th>street_name</th>\n",
       "      <th>storey_range</th>\n",
       "      <th>floor_area_sqm</th>\n",
       "      <th>flat_model</th>\n",
       "      <th>flat_type</th>\n",
       "      <th>resale_price</th>\n",
       "    </tr>\n",
       "  </thead>\n",
       "  <tbody>\n",
       "    <tr>\n",
       "      <th>0</th>\n",
       "      <td>2017-01-01</td>\n",
       "      <td>2017</td>\n",
       "      <td>1</td>\n",
       "      <td>1979</td>\n",
       "      <td>61</td>\n",
       "      <td>ANG MO KIO</td>\n",
       "      <td>406</td>\n",
       "      <td>ANG MO KIO AVE 10</td>\n",
       "      <td>10 TO 12</td>\n",
       "      <td>44.0</td>\n",
       "      <td>IMPROVED</td>\n",
       "      <td>2 ROOM</td>\n",
       "      <td>232000.0</td>\n",
       "    </tr>\n",
       "    <tr>\n",
       "      <th>1</th>\n",
       "      <td>2017-01-01</td>\n",
       "      <td>2017</td>\n",
       "      <td>1</td>\n",
       "      <td>1978</td>\n",
       "      <td>60</td>\n",
       "      <td>ANG MO KIO</td>\n",
       "      <td>108</td>\n",
       "      <td>ANG MO KIO AVE 4</td>\n",
       "      <td>01 TO 03</td>\n",
       "      <td>67.0</td>\n",
       "      <td>NEW GENERATION</td>\n",
       "      <td>3 ROOM</td>\n",
       "      <td>250000.0</td>\n",
       "    </tr>\n",
       "    <tr>\n",
       "      <th>2</th>\n",
       "      <td>2017-01-01</td>\n",
       "      <td>2017</td>\n",
       "      <td>1</td>\n",
       "      <td>1980</td>\n",
       "      <td>62</td>\n",
       "      <td>ANG MO KIO</td>\n",
       "      <td>602</td>\n",
       "      <td>ANG MO KIO AVE 5</td>\n",
       "      <td>01 TO 03</td>\n",
       "      <td>67.0</td>\n",
       "      <td>NEW GENERATION</td>\n",
       "      <td>3 ROOM</td>\n",
       "      <td>262000.0</td>\n",
       "    </tr>\n",
       "    <tr>\n",
       "      <th>3</th>\n",
       "      <td>2017-01-01</td>\n",
       "      <td>2017</td>\n",
       "      <td>1</td>\n",
       "      <td>1980</td>\n",
       "      <td>62</td>\n",
       "      <td>ANG MO KIO</td>\n",
       "      <td>465</td>\n",
       "      <td>ANG MO KIO AVE 10</td>\n",
       "      <td>04 TO 06</td>\n",
       "      <td>68.0</td>\n",
       "      <td>NEW GENERATION</td>\n",
       "      <td>3 ROOM</td>\n",
       "      <td>265000.0</td>\n",
       "    </tr>\n",
       "    <tr>\n",
       "      <th>4</th>\n",
       "      <td>2017-01-01</td>\n",
       "      <td>2017</td>\n",
       "      <td>1</td>\n",
       "      <td>1980</td>\n",
       "      <td>62</td>\n",
       "      <td>ANG MO KIO</td>\n",
       "      <td>601</td>\n",
       "      <td>ANG MO KIO AVE 5</td>\n",
       "      <td>01 TO 03</td>\n",
       "      <td>67.0</td>\n",
       "      <td>NEW GENERATION</td>\n",
       "      <td>3 ROOM</td>\n",
       "      <td>265000.0</td>\n",
       "    </tr>\n",
       "  </tbody>\n",
       "</table>\n",
       "</div>"
      ],
      "text/plain": [
       "  resale_date  resale_year  resale_month  lease_commence_year  \\\n",
       "0  2017-01-01         2017             1                 1979   \n",
       "1  2017-01-01         2017             1                 1978   \n",
       "2  2017-01-01         2017             1                 1980   \n",
       "3  2017-01-01         2017             1                 1980   \n",
       "4  2017-01-01         2017             1                 1980   \n",
       "\n",
       "   remaining_lease        town block        street_name storey_range  \\\n",
       "0               61  ANG MO KIO   406  ANG MO KIO AVE 10     10 TO 12   \n",
       "1               60  ANG MO KIO   108   ANG MO KIO AVE 4     01 TO 03   \n",
       "2               62  ANG MO KIO   602   ANG MO KIO AVE 5     01 TO 03   \n",
       "3               62  ANG MO KIO   465  ANG MO KIO AVE 10     04 TO 06   \n",
       "4               62  ANG MO KIO   601   ANG MO KIO AVE 5     01 TO 03   \n",
       "\n",
       "   floor_area_sqm      flat_model flat_type  resale_price  \n",
       "0            44.0        IMPROVED    2 ROOM      232000.0  \n",
       "1            67.0  NEW GENERATION    3 ROOM      250000.0  \n",
       "2            67.0  NEW GENERATION    3 ROOM      262000.0  \n",
       "3            68.0  NEW GENERATION    3 ROOM      265000.0  \n",
       "4            67.0  NEW GENERATION    3 ROOM      265000.0  "
      ]
     },
     "execution_count": 3,
     "metadata": {},
     "output_type": "execute_result"
    }
   ],
   "source": [
    "cleandata.head()"
   ]
  },
  {
   "cell_type": "code",
   "execution_count": 4,
   "metadata": {},
   "outputs": [],
   "source": [
    "%store -r months_order"
   ]
  },
  {
   "cell_type": "markdown",
   "metadata": {},
   "source": [
    "## 4.1 Numerical Predictors"
   ]
  },
  {
   "cell_type": "code",
   "execution_count": 5,
   "metadata": {},
   "outputs": [],
   "source": [
    "# At this point no need to change the numerical features"
   ]
  },
  {
   "cell_type": "markdown",
   "metadata": {},
   "source": [
    "## 4.2 Categorical Predictors"
   ]
  },
  {
   "cell_type": "markdown",
   "metadata": {},
   "source": [
    "### Ordinal Encoding"
   ]
  },
  {
   "cell_type": "code",
   "execution_count": 6,
   "metadata": {},
   "outputs": [],
   "source": [
    "# As I have mentioned in EDA part, we discovered that flat_type and storey_range are ordinal variables\n",
    "# that have nearly linear relationship with average resale_price.\n",
    "# Therefore, we can change it into numeric\n",
    "# so as to make the future models simpler\n",
    "# because too many categories leads to \"the curse of dimensionality\""
   ]
  },
  {
   "cell_type": "markdown",
   "metadata": {},
   "source": [
    "#### Flat Type"
   ]
  },
  {
   "cell_type": "code",
   "execution_count": 7,
   "metadata": {},
   "outputs": [
    {
     "data": {
      "image/png": "[encoded data removed]",
      "text/plain": [
       "<Figure size 648x432 with 1 Axes>"
      ]
     },
     "metadata": {},
     "output_type": "display_data"
    }
   ],
   "source": [
    "ft = cleandata.groupby('flat_type')['resale_price'].mean()\n",
    "\n",
    "plt.figure(figsize=[9,6])\n",
    "ft.plot(marker = 'd', linewidth = 2)\n",
    "plt.xticks(rotation = 20)\n",
    "plt.savefig('flat type average.png');"
   ]
  },
  {
   "cell_type": "code",
   "execution_count": 8,
   "metadata": {},
   "outputs": [
    {
     "data": {
      "text/plain": [
       "array([0, 1, 2, 3, 4, 5, 6])"
      ]
     },
     "execution_count": 8,
     "metadata": {},
     "output_type": "execute_result"
    }
   ],
   "source": [
    "from sklearn.preprocessing import OrdinalEncoder\n",
    "\n",
    "ftype_order = np.sort(cleandata['flat_type'].unique())\n",
    "ft_encoder = OrdinalEncoder(categories=[ftype_order])\n",
    "\n",
    "cleandata['flat_type'] = ft_encoder.fit_transform(cleandata['flat_type'].values.reshape(-1, 1))\n",
    "cleandata['flat_type'] = cleandata['flat_type'].astype(int)\n",
    "np.sort(cleandata['flat_type'].unique())"
   ]
  },
  {
   "cell_type": "markdown",
   "metadata": {},
   "source": [
    "#### Storey Range"
   ]
  },
  {
   "cell_type": "code",
   "execution_count": 9,
   "metadata": {},
   "outputs": [
    {
     "data": {
      "image/png": "[encoded data removed]",
      "text/plain": [
       "<Figure size 648x432 with 1 Axes>"
      ]
     },
     "metadata": {},
     "output_type": "display_data"
    }
   ],
   "source": [
    "st = cleandata.groupby('storey_range')['resale_price'].mean()\n",
    "\n",
    "plt.figure(figsize=[9,6])\n",
    "st.plot(marker = 'd', linewidth = 2)\n",
    "plt.xticks(rotation = 30)\n",
    "plt.savefig('storey range average.png');"
   ]
  },
  {
   "cell_type": "code",
   "execution_count": 10,
   "metadata": {
    "scrolled": true
   },
   "outputs": [
    {
     "data": {
      "text/plain": [
       "array([ 0,  1,  2,  3,  4,  5,  6,  7,  8,  9, 10, 11, 12, 13, 14, 15, 16])"
      ]
     },
     "execution_count": 10,
     "metadata": {},
     "output_type": "execute_result"
    }
   ],
   "source": [
    "storey_order = np.sort(cleandata['storey_range'].unique())\n",
    "st_encoder = OrdinalEncoder(categories=[storey_order])\n",
    "\n",
    "cleandata['storey_range'] = st_encoder.fit_transform(cleandata['storey_range'].values.reshape(-1, 1))\n",
    "cleandata['storey_range'] = cleandata['storey_range'].astype(int)\n",
    "np.sort(cleandata['storey_range'].unique())"
   ]
  },
  {
   "cell_type": "markdown",
   "metadata": {},
   "source": [
    "## 4.3 Temporal Predictors"
   ]
  },
  {
   "cell_type": "code",
   "execution_count": 11,
   "metadata": {},
   "outputs": [],
   "source": [
    "time = cleandata.iloc[:,:5]\n",
    "others = cleandata.iloc[:,5:]"
   ]
  },
  {
   "cell_type": "code",
   "execution_count": 12,
   "metadata": {},
   "outputs": [
    {
     "data": {
      "text/html": [
       "<div>\n",
       "<style scoped>\n",
       "    .dataframe tbody tr th:only-of-type {\n",
       "        vertical-align: middle;\n",
       "    }\n",
       "\n",
       "    .dataframe tbody tr th {\n",
       "        vertical-align: top;\n",
       "    }\n",
       "\n",
       "    .dataframe thead th {\n",
       "        text-align: right;\n",
       "    }\n",
       "</style>\n",
       "<table border=\"1\" class=\"dataframe\">\n",
       "  <thead>\n",
       "    <tr style=\"text-align: right;\">\n",
       "      <th></th>\n",
       "      <th>resale_date</th>\n",
       "      <th>resale_year</th>\n",
       "      <th>resale_month</th>\n",
       "      <th>lease_commence_year</th>\n",
       "      <th>remaining_lease</th>\n",
       "    </tr>\n",
       "  </thead>\n",
       "  <tbody>\n",
       "    <tr>\n",
       "      <th>0</th>\n",
       "      <td>2017-01-01</td>\n",
       "      <td>2017</td>\n",
       "      <td>1</td>\n",
       "      <td>1979</td>\n",
       "      <td>61</td>\n",
       "    </tr>\n",
       "    <tr>\n",
       "      <th>1</th>\n",
       "      <td>2017-01-01</td>\n",
       "      <td>2017</td>\n",
       "      <td>1</td>\n",
       "      <td>1978</td>\n",
       "      <td>60</td>\n",
       "    </tr>\n",
       "    <tr>\n",
       "      <th>2</th>\n",
       "      <td>2017-01-01</td>\n",
       "      <td>2017</td>\n",
       "      <td>1</td>\n",
       "      <td>1980</td>\n",
       "      <td>62</td>\n",
       "    </tr>\n",
       "    <tr>\n",
       "      <th>3</th>\n",
       "      <td>2017-01-01</td>\n",
       "      <td>2017</td>\n",
       "      <td>1</td>\n",
       "      <td>1980</td>\n",
       "      <td>62</td>\n",
       "    </tr>\n",
       "    <tr>\n",
       "      <th>4</th>\n",
       "      <td>2017-01-01</td>\n",
       "      <td>2017</td>\n",
       "      <td>1</td>\n",
       "      <td>1980</td>\n",
       "      <td>62</td>\n",
       "    </tr>\n",
       "  </tbody>\n",
       "</table>\n",
       "</div>"
      ],
      "text/plain": [
       "  resale_date  resale_year  resale_month  lease_commence_year  remaining_lease\n",
       "0  2017-01-01         2017             1                 1979               61\n",
       "1  2017-01-01         2017             1                 1978               60\n",
       "2  2017-01-01         2017             1                 1980               62\n",
       "3  2017-01-01         2017             1                 1980               62\n",
       "4  2017-01-01         2017             1                 1980               62"
      ]
     },
     "execution_count": 12,
     "metadata": {},
     "output_type": "execute_result"
    }
   ],
   "source": [
    "time.head()"
   ]
  },
  {
   "cell_type": "markdown",
   "metadata": {},
   "source": [
    "### month"
   ]
  },
  {
   "cell_type": "code",
   "execution_count": 13,
   "metadata": {},
   "outputs": [],
   "source": [
    "cleandata['resale_month'] = cleandata['resale_date'].dt.strftime('%b')\n",
    "cleandata['resale_month'] = pd.Categorical(cleandata['resale_month'], categories= months_order, ordered = True)"
   ]
  },
  {
   "cell_type": "markdown",
   "metadata": {},
   "source": [
    "### quarter"
   ]
  },
  {
   "cell_type": "code",
   "execution_count": 14,
   "metadata": {},
   "outputs": [],
   "source": [
    "cleandata['resale_quarter'] = cleandata['resale_date'].dt.quarter.astype(str)\n",
    "cleandata['resale_quarter'] = 'Q'+cleandata['resale_quarter']"
   ]
  },
  {
   "cell_type": "code",
   "execution_count": 15,
   "metadata": {},
   "outputs": [],
   "source": [
    "price_predict = sarima_result.predict().apply(np.exp)\n",
    "price_predict1 = price_predict.reset_index()\n",
    "price_forecast = sarima_result.forecast(steps = len(price_trend) - len(sarima_result.predict())).apply(np.exp) # series\n",
    "price_forecast1 = price_forecast.reset_index() \n",
    "price_forecast1 = price_forecast1.rename(columns = {'index': 'resale_date'}) # make dataframe"
   ]
  },
  {
   "cell_type": "code",
   "execution_count": 16,
   "metadata": {},
   "outputs": [],
   "source": [
    "#fix the extreme values with interpolation\n",
    "\n",
    "price_predict1.iloc[0,1] = np.nan\n",
    "price_predict1.iloc[12,1] = np.nan\n",
    "price_predict1['predicted_mean'] = price_predict1['predicted_mean'].interpolate(method = 'linear')"
   ]
  },
  {
   "cell_type": "code",
   "execution_count": 17,
   "metadata": {},
   "outputs": [],
   "source": [
    "prediction = pd.concat([price_predict1, price_forecast1], axis = 0)"
   ]
  },
  {
   "cell_type": "code",
   "execution_count": 18,
   "metadata": {},
   "outputs": [
    {
     "data": {
      "text/html": [
       "<div>\n",
       "<style scoped>\n",
       "    .dataframe tbody tr th:only-of-type {\n",
       "        vertical-align: middle;\n",
       "    }\n",
       "\n",
       "    .dataframe tbody tr th {\n",
       "        vertical-align: top;\n",
       "    }\n",
       "\n",
       "    .dataframe thead th {\n",
       "        text-align: right;\n",
       "    }\n",
       "</style>\n",
       "<table border=\"1\" class=\"dataframe\">\n",
       "  <thead>\n",
       "    <tr style=\"text-align: right;\">\n",
       "      <th></th>\n",
       "      <th>resale_date</th>\n",
       "      <th>predicted_mean</th>\n",
       "      <th>lag1</th>\n",
       "      <th>lag2</th>\n",
       "      <th>lag3</th>\n",
       "      <th>lag4</th>\n",
       "    </tr>\n",
       "  </thead>\n",
       "  <tbody>\n",
       "    <tr>\n",
       "      <th>0</th>\n",
       "      <td>2017-01-01</td>\n",
       "      <td>NaN</td>\n",
       "      <td>NaN</td>\n",
       "      <td>NaN</td>\n",
       "      <td>NaN</td>\n",
       "      <td>NaN</td>\n",
       "    </tr>\n",
       "    <tr>\n",
       "      <th>1</th>\n",
       "      <td>2017-02-01</td>\n",
       "      <td>427478.107799</td>\n",
       "      <td>NaN</td>\n",
       "      <td>NaN</td>\n",
       "      <td>NaN</td>\n",
       "      <td>NaN</td>\n",
       "    </tr>\n",
       "    <tr>\n",
       "      <th>2</th>\n",
       "      <td>2017-03-01</td>\n",
       "      <td>447295.950889</td>\n",
       "      <td>427478.107799</td>\n",
       "      <td>NaN</td>\n",
       "      <td>NaN</td>\n",
       "      <td>NaN</td>\n",
       "    </tr>\n",
       "    <tr>\n",
       "      <th>3</th>\n",
       "      <td>2017-04-01</td>\n",
       "      <td>444852.246916</td>\n",
       "      <td>447295.950889</td>\n",
       "      <td>427478.107799</td>\n",
       "      <td>NaN</td>\n",
       "      <td>NaN</td>\n",
       "    </tr>\n",
       "    <tr>\n",
       "      <th>4</th>\n",
       "      <td>2017-05-01</td>\n",
       "      <td>438553.119984</td>\n",
       "      <td>444852.246916</td>\n",
       "      <td>447295.950889</td>\n",
       "      <td>427478.107799</td>\n",
       "      <td>NaN</td>\n",
       "    </tr>\n",
       "    <tr>\n",
       "      <th>...</th>\n",
       "      <td>...</td>\n",
       "      <td>...</td>\n",
       "      <td>...</td>\n",
       "      <td>...</td>\n",
       "      <td>...</td>\n",
       "      <td>...</td>\n",
       "    </tr>\n",
       "    <tr>\n",
       "      <th>7</th>\n",
       "      <td>2023-04-01</td>\n",
       "      <td>565935.890491</td>\n",
       "      <td>562510.685839</td>\n",
       "      <td>560573.505124</td>\n",
       "      <td>552042.786047</td>\n",
       "      <td>558060.020263</td>\n",
       "    </tr>\n",
       "    <tr>\n",
       "      <th>8</th>\n",
       "      <td>2023-05-01</td>\n",
       "      <td>567773.138845</td>\n",
       "      <td>565935.890491</td>\n",
       "      <td>562510.685839</td>\n",
       "      <td>560573.505124</td>\n",
       "      <td>552042.786047</td>\n",
       "    </tr>\n",
       "    <tr>\n",
       "      <th>9</th>\n",
       "      <td>2023-06-01</td>\n",
       "      <td>564935.989380</td>\n",
       "      <td>567773.138845</td>\n",
       "      <td>565935.890491</td>\n",
       "      <td>562510.685839</td>\n",
       "      <td>560573.505124</td>\n",
       "    </tr>\n",
       "    <tr>\n",
       "      <th>10</th>\n",
       "      <td>2023-07-01</td>\n",
       "      <td>567751.437004</td>\n",
       "      <td>564935.989380</td>\n",
       "      <td>567773.138845</td>\n",
       "      <td>565935.890491</td>\n",
       "      <td>562510.685839</td>\n",
       "    </tr>\n",
       "    <tr>\n",
       "      <th>11</th>\n",
       "      <td>2023-08-01</td>\n",
       "      <td>568266.751229</td>\n",
       "      <td>567751.437004</td>\n",
       "      <td>564935.989380</td>\n",
       "      <td>567773.138845</td>\n",
       "      <td>565935.890491</td>\n",
       "    </tr>\n",
       "  </tbody>\n",
       "</table>\n",
       "<p>80 rows × 6 columns</p>\n",
       "</div>"
      ],
      "text/plain": [
       "   resale_date  predicted_mean           lag1           lag2           lag3  \\\n",
       "0   2017-01-01             NaN            NaN            NaN            NaN   \n",
       "1   2017-02-01   427478.107799            NaN            NaN            NaN   \n",
       "2   2017-03-01   447295.950889  427478.107799            NaN            NaN   \n",
       "3   2017-04-01   444852.246916  447295.950889  427478.107799            NaN   \n",
       "4   2017-05-01   438553.119984  444852.246916  447295.950889  427478.107799   \n",
       "..         ...             ...            ...            ...            ...   \n",
       "7   2023-04-01   565935.890491  562510.685839  560573.505124  552042.786047   \n",
       "8   2023-05-01   567773.138845  565935.890491  562510.685839  560573.505124   \n",
       "9   2023-06-01   564935.989380  567773.138845  565935.890491  562510.685839   \n",
       "10  2023-07-01   567751.437004  564935.989380  567773.138845  565935.890491   \n",
       "11  2023-08-01   568266.751229  567751.437004  564935.989380  567773.138845   \n",
       "\n",
       "             lag4  \n",
       "0             NaN  \n",
       "1             NaN  \n",
       "2             NaN  \n",
       "3             NaN  \n",
       "4             NaN  \n",
       "..            ...  \n",
       "7   558060.020263  \n",
       "8   552042.786047  \n",
       "9   560573.505124  \n",
       "10  562510.685839  \n",
       "11  565935.890491  \n",
       "\n",
       "[80 rows x 6 columns]"
      ]
     },
     "execution_count": 18,
     "metadata": {},
     "output_type": "execute_result"
    }
   ],
   "source": [
    "prediction['lag1'] = prediction['predicted_mean'].shift(1)\n",
    "prediction['lag2'] = prediction['predicted_mean'].shift(2)\n",
    "prediction['lag3'] = prediction['predicted_mean'].shift(3)\n",
    "prediction['lag4'] = prediction['predicted_mean'].shift(4)\n",
    "prediction"
   ]
  },
  {
   "cell_type": "code",
   "execution_count": 19,
   "metadata": {},
   "outputs": [],
   "source": [
    "cleandata1 = pd.merge(cleandata, prediction, on = 'resale_date', how = 'outer')\n",
    "cleandata1 = pd.merge(cleandata1, price_trend, on = 'resale_date', how = 'outer')"
   ]
  },
  {
   "cell_type": "markdown",
   "metadata": {},
   "source": [
    "## 4.4 Feature Selection"
   ]
  },
  {
   "cell_type": "code",
   "execution_count": 20,
   "metadata": {},
   "outputs": [
    {
     "data": {
      "text/html": [
       "<div>\n",
       "<style scoped>\n",
       "    .dataframe tbody tr th:only-of-type {\n",
       "        vertical-align: middle;\n",
       "    }\n",
       "\n",
       "    .dataframe tbody tr th {\n",
       "        vertical-align: top;\n",
       "    }\n",
       "\n",
       "    .dataframe thead th {\n",
       "        text-align: right;\n",
       "    }\n",
       "</style>\n",
       "<table border=\"1\" class=\"dataframe\">\n",
       "  <thead>\n",
       "    <tr style=\"text-align: right;\">\n",
       "      <th></th>\n",
       "      <th>resale_date</th>\n",
       "      <th>resale_year</th>\n",
       "      <th>resale_month</th>\n",
       "      <th>lease_commence_year</th>\n",
       "      <th>remaining_lease</th>\n",
       "      <th>town</th>\n",
       "      <th>block</th>\n",
       "      <th>street_name</th>\n",
       "      <th>storey_range</th>\n",
       "      <th>floor_area_sqm</th>\n",
       "      <th>flat_model</th>\n",
       "      <th>flat_type</th>\n",
       "      <th>resale_price</th>\n",
       "      <th>resale_quarter</th>\n",
       "      <th>predicted_mean</th>\n",
       "      <th>lag1</th>\n",
       "      <th>lag2</th>\n",
       "      <th>lag3</th>\n",
       "      <th>lag4</th>\n",
       "      <th>trend</th>\n",
       "    </tr>\n",
       "  </thead>\n",
       "  <tbody>\n",
       "    <tr>\n",
       "      <th>7925</th>\n",
       "      <td>2017-06-01</td>\n",
       "      <td>2017</td>\n",
       "      <td>Jun</td>\n",
       "      <td>1986</td>\n",
       "      <td>68</td>\n",
       "      <td>ANG MO KIO</td>\n",
       "      <td>174</td>\n",
       "      <td>ANG MO KIO AVE 4</td>\n",
       "      <td>2</td>\n",
       "      <td>45.0</td>\n",
       "      <td>IMPROVED</td>\n",
       "      <td>1</td>\n",
       "      <td>233000.0</td>\n",
       "      <td>Q2</td>\n",
       "      <td>443652.372539</td>\n",
       "      <td>438553.119984</td>\n",
       "      <td>444852.246916</td>\n",
       "      <td>447295.950889</td>\n",
       "      <td>427478.107799</td>\n",
       "      <td>444038.092571</td>\n",
       "    </tr>\n",
       "    <tr>\n",
       "      <th>7926</th>\n",
       "      <td>2017-06-01</td>\n",
       "      <td>2017</td>\n",
       "      <td>Jun</td>\n",
       "      <td>1978</td>\n",
       "      <td>60</td>\n",
       "      <td>ANG MO KIO</td>\n",
       "      <td>314</td>\n",
       "      <td>ANG MO KIO AVE 3</td>\n",
       "      <td>2</td>\n",
       "      <td>44.0</td>\n",
       "      <td>IMPROVED</td>\n",
       "      <td>1</td>\n",
       "      <td>250000.0</td>\n",
       "      <td>Q2</td>\n",
       "      <td>443652.372539</td>\n",
       "      <td>438553.119984</td>\n",
       "      <td>444852.246916</td>\n",
       "      <td>447295.950889</td>\n",
       "      <td>427478.107799</td>\n",
       "      <td>444038.092571</td>\n",
       "    </tr>\n",
       "    <tr>\n",
       "      <th>7927</th>\n",
       "      <td>2017-06-01</td>\n",
       "      <td>2017</td>\n",
       "      <td>Jun</td>\n",
       "      <td>1976</td>\n",
       "      <td>58</td>\n",
       "      <td>ANG MO KIO</td>\n",
       "      <td>218</td>\n",
       "      <td>ANG MO KIO AVE 1</td>\n",
       "      <td>2</td>\n",
       "      <td>67.0</td>\n",
       "      <td>NEW GENERATION</td>\n",
       "      <td>2</td>\n",
       "      <td>235000.0</td>\n",
       "      <td>Q2</td>\n",
       "      <td>443652.372539</td>\n",
       "      <td>438553.119984</td>\n",
       "      <td>444852.246916</td>\n",
       "      <td>447295.950889</td>\n",
       "      <td>427478.107799</td>\n",
       "      <td>444038.092571</td>\n",
       "    </tr>\n",
       "    <tr>\n",
       "      <th>7928</th>\n",
       "      <td>2017-06-01</td>\n",
       "      <td>2017</td>\n",
       "      <td>Jun</td>\n",
       "      <td>1980</td>\n",
       "      <td>62</td>\n",
       "      <td>ANG MO KIO</td>\n",
       "      <td>465</td>\n",
       "      <td>ANG MO KIO AVE 10</td>\n",
       "      <td>2</td>\n",
       "      <td>68.0</td>\n",
       "      <td>NEW GENERATION</td>\n",
       "      <td>2</td>\n",
       "      <td>260000.0</td>\n",
       "      <td>Q2</td>\n",
       "      <td>443652.372539</td>\n",
       "      <td>438553.119984</td>\n",
       "      <td>444852.246916</td>\n",
       "      <td>447295.950889</td>\n",
       "      <td>427478.107799</td>\n",
       "      <td>444038.092571</td>\n",
       "    </tr>\n",
       "    <tr>\n",
       "      <th>7929</th>\n",
       "      <td>2017-06-01</td>\n",
       "      <td>2017</td>\n",
       "      <td>Jun</td>\n",
       "      <td>1981</td>\n",
       "      <td>63</td>\n",
       "      <td>ANG MO KIO</td>\n",
       "      <td>151</td>\n",
       "      <td>ANG MO KIO AVE 5</td>\n",
       "      <td>0</td>\n",
       "      <td>68.0</td>\n",
       "      <td>NEW GENERATION</td>\n",
       "      <td>2</td>\n",
       "      <td>260000.0</td>\n",
       "      <td>Q2</td>\n",
       "      <td>443652.372539</td>\n",
       "      <td>438553.119984</td>\n",
       "      <td>444852.246916</td>\n",
       "      <td>447295.950889</td>\n",
       "      <td>427478.107799</td>\n",
       "      <td>444038.092571</td>\n",
       "    </tr>\n",
       "  </tbody>\n",
       "</table>\n",
       "</div>"
      ],
      "text/plain": [
       "     resale_date  resale_year resale_month  lease_commence_year  \\\n",
       "7925  2017-06-01         2017          Jun                 1986   \n",
       "7926  2017-06-01         2017          Jun                 1978   \n",
       "7927  2017-06-01         2017          Jun                 1976   \n",
       "7928  2017-06-01         2017          Jun                 1980   \n",
       "7929  2017-06-01         2017          Jun                 1981   \n",
       "\n",
       "      remaining_lease        town block        street_name  storey_range  \\\n",
       "7925               68  ANG MO KIO   174   ANG MO KIO AVE 4             2   \n",
       "7926               60  ANG MO KIO   314   ANG MO KIO AVE 3             2   \n",
       "7927               58  ANG MO KIO   218   ANG MO KIO AVE 1             2   \n",
       "7928               62  ANG MO KIO   465  ANG MO KIO AVE 10             2   \n",
       "7929               63  ANG MO KIO   151   ANG MO KIO AVE 5             0   \n",
       "\n",
       "      floor_area_sqm      flat_model  flat_type  resale_price resale_quarter  \\\n",
       "7925            45.0        IMPROVED          1      233000.0             Q2   \n",
       "7926            44.0        IMPROVED          1      250000.0             Q2   \n",
       "7927            67.0  NEW GENERATION          2      235000.0             Q2   \n",
       "7928            68.0  NEW GENERATION          2      260000.0             Q2   \n",
       "7929            68.0  NEW GENERATION          2      260000.0             Q2   \n",
       "\n",
       "      predicted_mean           lag1           lag2           lag3  \\\n",
       "7925   443652.372539  438553.119984  444852.246916  447295.950889   \n",
       "7926   443652.372539  438553.119984  444852.246916  447295.950889   \n",
       "7927   443652.372539  438553.119984  444852.246916  447295.950889   \n",
       "7928   443652.372539  438553.119984  444852.246916  447295.950889   \n",
       "7929   443652.372539  438553.119984  444852.246916  447295.950889   \n",
       "\n",
       "               lag4          trend  \n",
       "7925  427478.107799  444038.092571  \n",
       "7926  427478.107799  444038.092571  \n",
       "7927  427478.107799  444038.092571  \n",
       "7928  427478.107799  444038.092571  \n",
       "7929  427478.107799  444038.092571  "
      ]
     },
     "execution_count": 20,
     "metadata": {},
     "output_type": "execute_result"
    }
   ],
   "source": [
    "newdata = cleandata1.dropna()\n",
    "newdata.head()"
   ]
  },
  {
   "cell_type": "code",
   "execution_count": 21,
   "metadata": {},
   "outputs": [],
   "source": [
    "# check whether there is any inappropriate values\n",
    "\n",
    "num = newdata.select_dtypes(include = 'number') #numerical\n",
    "cat = newdata.select_dtypes(exclude = 'number') #categorical/qualitative"
   ]
  },
  {
   "cell_type": "code",
   "execution_count": 22,
   "metadata": {},
   "outputs": [
    {
     "data": {
      "image/png": "[encoded data removed]",
      "text/plain": [
       "<Figure size 1080x720 with 2 Axes>"
      ]
     },
     "metadata": {},
     "output_type": "display_data"
    }
   ],
   "source": [
    "plt.figure(figsize= [15, 10])\n",
    "sns.heatmap(num.corr(), annot = True, annot_kws={'size': 14});\n",
    "\n",
    "# from the heatmap below, we can tell which features are multicollinear\n",
    "# since we already know that remaining lease is a function of lease_commence_year\n",
    "# I think it is safe to drop one of those two features\n",
    "# Meanwhile, we would like to keep the rest at this point and just see how the model behaves later on"
   ]
  },
  {
   "cell_type": "markdown",
   "metadata": {},
   "source": [
    "plt.figure(figsize= [10, 7])\n",
    "sns.heatmap(num.iloc[:,:7].corr(method = 'spearman'), annot = True, annot_kws={'size': 14})\n",
    "plt.savefig('corr num.png');"
   ]
  },
  {
   "cell_type": "markdown",
   "metadata": {},
   "source": [
    "plt.figure(figsize= [10, 7])\n",
    "sns.heatmap(num.iloc[:,6:].corr(method = 'pearson'), annot = True, annot_kws={'size': 14})\n",
    "plt.savefig('corr TS.png');"
   ]
  },
  {
   "cell_type": "code",
   "execution_count": 25,
   "metadata": {},
   "outputs": [
    {
     "name": "stdout",
     "output_type": "stream",
     "text": [
      "Resale_Date : contains 75 values\n",
      "Resale_Month : contains 12 values\n",
      "Town : contains 26 values\n",
      "Block : contains 2671 values\n",
      "Street_Name : contains 565 values\n",
      "Flat_Model : contains 21 values\n",
      "Resale_Quarter : contains 4 values\n"
     ]
    }
   ],
   "source": [
    "for i, column in enumerate(cat.columns):\n",
    "    print(f'{column}'.title(), ': contains', cat[column].nunique(), 'values')\n",
    "\n",
    "    # we would also just drop block and street_name because \n",
    "    # they have extremely large values (2672 values and 565 values, respectively)"
   ]
  },
  {
   "cell_type": "code",
   "execution_count": 26,
   "metadata": {},
   "outputs": [],
   "source": [
    "feature_candidates = newdata.drop(['remaining_lease', 'block', 'street_name'], axis = 1)\n",
    "feature_candidates = feature_candidates.rename({'predicted_mean':'sarima_forecast'}, axis = 1)\n",
    "\n",
    "# rename predicted_mean (which came from SARIMA forecasting) to sarima_forecast to avoid confusion"
   ]
  },
  {
   "cell_type": "code",
   "execution_count": 27,
   "metadata": {},
   "outputs": [
    {
     "data": {
      "text/html": [
       "<div>\n",
       "<style scoped>\n",
       "    .dataframe tbody tr th:only-of-type {\n",
       "        vertical-align: middle;\n",
       "    }\n",
       "\n",
       "    .dataframe tbody tr th {\n",
       "        vertical-align: top;\n",
       "    }\n",
       "\n",
       "    .dataframe thead th {\n",
       "        text-align: right;\n",
       "    }\n",
       "</style>\n",
       "<table border=\"1\" class=\"dataframe\">\n",
       "  <thead>\n",
       "    <tr style=\"text-align: right;\">\n",
       "      <th></th>\n",
       "      <th>resale_date</th>\n",
       "      <th>resale_year</th>\n",
       "      <th>resale_month</th>\n",
       "      <th>lease_commence_year</th>\n",
       "      <th>town</th>\n",
       "      <th>storey_range</th>\n",
       "      <th>floor_area_sqm</th>\n",
       "      <th>flat_model</th>\n",
       "      <th>flat_type</th>\n",
       "      <th>resale_price</th>\n",
       "      <th>resale_quarter</th>\n",
       "      <th>sarima_forecast</th>\n",
       "      <th>lag1</th>\n",
       "      <th>lag2</th>\n",
       "      <th>lag3</th>\n",
       "      <th>lag4</th>\n",
       "      <th>trend</th>\n",
       "    </tr>\n",
       "  </thead>\n",
       "  <tbody>\n",
       "    <tr>\n",
       "      <th>7925</th>\n",
       "      <td>2017-06-01</td>\n",
       "      <td>2017</td>\n",
       "      <td>Jun</td>\n",
       "      <td>1986</td>\n",
       "      <td>ANG MO KIO</td>\n",
       "      <td>2</td>\n",
       "      <td>45.0</td>\n",
       "      <td>IMPROVED</td>\n",
       "      <td>1</td>\n",
       "      <td>233000.0</td>\n",
       "      <td>Q2</td>\n",
       "      <td>443652.372539</td>\n",
       "      <td>438553.119984</td>\n",
       "      <td>444852.246916</td>\n",
       "      <td>447295.950889</td>\n",
       "      <td>427478.107799</td>\n",
       "      <td>444038.092571</td>\n",
       "    </tr>\n",
       "    <tr>\n",
       "      <th>7926</th>\n",
       "      <td>2017-06-01</td>\n",
       "      <td>2017</td>\n",
       "      <td>Jun</td>\n",
       "      <td>1978</td>\n",
       "      <td>ANG MO KIO</td>\n",
       "      <td>2</td>\n",
       "      <td>44.0</td>\n",
       "      <td>IMPROVED</td>\n",
       "      <td>1</td>\n",
       "      <td>250000.0</td>\n",
       "      <td>Q2</td>\n",
       "      <td>443652.372539</td>\n",
       "      <td>438553.119984</td>\n",
       "      <td>444852.246916</td>\n",
       "      <td>447295.950889</td>\n",
       "      <td>427478.107799</td>\n",
       "      <td>444038.092571</td>\n",
       "    </tr>\n",
       "    <tr>\n",
       "      <th>7927</th>\n",
       "      <td>2017-06-01</td>\n",
       "      <td>2017</td>\n",
       "      <td>Jun</td>\n",
       "      <td>1976</td>\n",
       "      <td>ANG MO KIO</td>\n",
       "      <td>2</td>\n",
       "      <td>67.0</td>\n",
       "      <td>NEW GENERATION</td>\n",
       "      <td>2</td>\n",
       "      <td>235000.0</td>\n",
       "      <td>Q2</td>\n",
       "      <td>443652.372539</td>\n",
       "      <td>438553.119984</td>\n",
       "      <td>444852.246916</td>\n",
       "      <td>447295.950889</td>\n",
       "      <td>427478.107799</td>\n",
       "      <td>444038.092571</td>\n",
       "    </tr>\n",
       "    <tr>\n",
       "      <th>7928</th>\n",
       "      <td>2017-06-01</td>\n",
       "      <td>2017</td>\n",
       "      <td>Jun</td>\n",
       "      <td>1980</td>\n",
       "      <td>ANG MO KIO</td>\n",
       "      <td>2</td>\n",
       "      <td>68.0</td>\n",
       "      <td>NEW GENERATION</td>\n",
       "      <td>2</td>\n",
       "      <td>260000.0</td>\n",
       "      <td>Q2</td>\n",
       "      <td>443652.372539</td>\n",
       "      <td>438553.119984</td>\n",
       "      <td>444852.246916</td>\n",
       "      <td>447295.950889</td>\n",
       "      <td>427478.107799</td>\n",
       "      <td>444038.092571</td>\n",
       "    </tr>\n",
       "    <tr>\n",
       "      <th>7929</th>\n",
       "      <td>2017-06-01</td>\n",
       "      <td>2017</td>\n",
       "      <td>Jun</td>\n",
       "      <td>1981</td>\n",
       "      <td>ANG MO KIO</td>\n",
       "      <td>0</td>\n",
       "      <td>68.0</td>\n",
       "      <td>NEW GENERATION</td>\n",
       "      <td>2</td>\n",
       "      <td>260000.0</td>\n",
       "      <td>Q2</td>\n",
       "      <td>443652.372539</td>\n",
       "      <td>438553.119984</td>\n",
       "      <td>444852.246916</td>\n",
       "      <td>447295.950889</td>\n",
       "      <td>427478.107799</td>\n",
       "      <td>444038.092571</td>\n",
       "    </tr>\n",
       "  </tbody>\n",
       "</table>\n",
       "</div>"
      ],
      "text/plain": [
       "     resale_date  resale_year resale_month  lease_commence_year        town  \\\n",
       "7925  2017-06-01         2017          Jun                 1986  ANG MO KIO   \n",
       "7926  2017-06-01         2017          Jun                 1978  ANG MO KIO   \n",
       "7927  2017-06-01         2017          Jun                 1976  ANG MO KIO   \n",
       "7928  2017-06-01         2017          Jun                 1980  ANG MO KIO   \n",
       "7929  2017-06-01         2017          Jun                 1981  ANG MO KIO   \n",
       "\n",
       "      storey_range  floor_area_sqm      flat_model  flat_type  resale_price  \\\n",
       "7925             2            45.0        IMPROVED          1      233000.0   \n",
       "7926             2            44.0        IMPROVED          1      250000.0   \n",
       "7927             2            67.0  NEW GENERATION          2      235000.0   \n",
       "7928             2            68.0  NEW GENERATION          2      260000.0   \n",
       "7929             0            68.0  NEW GENERATION          2      260000.0   \n",
       "\n",
       "     resale_quarter  sarima_forecast           lag1           lag2  \\\n",
       "7925             Q2    443652.372539  438553.119984  444852.246916   \n",
       "7926             Q2    443652.372539  438553.119984  444852.246916   \n",
       "7927             Q2    443652.372539  438553.119984  444852.246916   \n",
       "7928             Q2    443652.372539  438553.119984  444852.246916   \n",
       "7929             Q2    443652.372539  438553.119984  444852.246916   \n",
       "\n",
       "               lag3           lag4          trend  \n",
       "7925  447295.950889  427478.107799  444038.092571  \n",
       "7926  447295.950889  427478.107799  444038.092571  \n",
       "7927  447295.950889  427478.107799  444038.092571  \n",
       "7928  447295.950889  427478.107799  444038.092571  \n",
       "7929  447295.950889  427478.107799  444038.092571  "
      ]
     },
     "execution_count": 27,
     "metadata": {},
     "output_type": "execute_result"
    }
   ],
   "source": [
    "feature_candidates.head()"
   ]
  },
  {
   "cell_type": "code",
   "execution_count": 28,
   "metadata": {
    "scrolled": true
   },
   "outputs": [],
   "source": [
    "feature_candidates_rearranged = feature_candidates[['resale_price', 'resale_date','resale_year', 'resale_month', 'resale_quarter', 'lease_commence_year', 'storey_range', 'town', 'flat_model', 'floor_area_sqm', 'sarima_forecast','lag1', 'lag2', 'lag3', 'lag4', 'trend']]\n",
    "#rearrange features"
   ]
  },
  {
   "cell_type": "code",
   "execution_count": 29,
   "metadata": {},
   "outputs": [
    {
     "data": {
      "text/html": [
       "<div>\n",
       "<style scoped>\n",
       "    .dataframe tbody tr th:only-of-type {\n",
       "        vertical-align: middle;\n",
       "    }\n",
       "\n",
       "    .dataframe tbody tr th {\n",
       "        vertical-align: top;\n",
       "    }\n",
       "\n",
       "    .dataframe thead th {\n",
       "        text-align: right;\n",
       "    }\n",
       "</style>\n",
       "<table border=\"1\" class=\"dataframe\">\n",
       "  <thead>\n",
       "    <tr style=\"text-align: right;\">\n",
       "      <th></th>\n",
       "      <th>resale_price</th>\n",
       "      <th>resale_date</th>\n",
       "      <th>resale_year</th>\n",
       "      <th>resale_month</th>\n",
       "      <th>resale_quarter</th>\n",
       "      <th>lease_commence_year</th>\n",
       "      <th>storey_range</th>\n",
       "      <th>town</th>\n",
       "      <th>flat_model</th>\n",
       "      <th>floor_area_sqm</th>\n",
       "    </tr>\n",
       "  </thead>\n",
       "  <tbody>\n",
       "    <tr>\n",
       "      <th>7925</th>\n",
       "      <td>233000.0</td>\n",
       "      <td>2017-06-01</td>\n",
       "      <td>2017</td>\n",
       "      <td>Jun</td>\n",
       "      <td>Q2</td>\n",
       "      <td>1986</td>\n",
       "      <td>2</td>\n",
       "      <td>ANG MO KIO</td>\n",
       "      <td>IMPROVED</td>\n",
       "      <td>45.0</td>\n",
       "    </tr>\n",
       "    <tr>\n",
       "      <th>7926</th>\n",
       "      <td>250000.0</td>\n",
       "      <td>2017-06-01</td>\n",
       "      <td>2017</td>\n",
       "      <td>Jun</td>\n",
       "      <td>Q2</td>\n",
       "      <td>1978</td>\n",
       "      <td>2</td>\n",
       "      <td>ANG MO KIO</td>\n",
       "      <td>IMPROVED</td>\n",
       "      <td>44.0</td>\n",
       "    </tr>\n",
       "    <tr>\n",
       "      <th>7927</th>\n",
       "      <td>235000.0</td>\n",
       "      <td>2017-06-01</td>\n",
       "      <td>2017</td>\n",
       "      <td>Jun</td>\n",
       "      <td>Q2</td>\n",
       "      <td>1976</td>\n",
       "      <td>2</td>\n",
       "      <td>ANG MO KIO</td>\n",
       "      <td>NEW GENERATION</td>\n",
       "      <td>67.0</td>\n",
       "    </tr>\n",
       "    <tr>\n",
       "      <th>7928</th>\n",
       "      <td>260000.0</td>\n",
       "      <td>2017-06-01</td>\n",
       "      <td>2017</td>\n",
       "      <td>Jun</td>\n",
       "      <td>Q2</td>\n",
       "      <td>1980</td>\n",
       "      <td>2</td>\n",
       "      <td>ANG MO KIO</td>\n",
       "      <td>NEW GENERATION</td>\n",
       "      <td>68.0</td>\n",
       "    </tr>\n",
       "    <tr>\n",
       "      <th>7929</th>\n",
       "      <td>260000.0</td>\n",
       "      <td>2017-06-01</td>\n",
       "      <td>2017</td>\n",
       "      <td>Jun</td>\n",
       "      <td>Q2</td>\n",
       "      <td>1981</td>\n",
       "      <td>0</td>\n",
       "      <td>ANG MO KIO</td>\n",
       "      <td>NEW GENERATION</td>\n",
       "      <td>68.0</td>\n",
       "    </tr>\n",
       "  </tbody>\n",
       "</table>\n",
       "</div>"
      ],
      "text/plain": [
       "      resale_price resale_date  resale_year resale_month resale_quarter  \\\n",
       "7925      233000.0  2017-06-01         2017          Jun             Q2   \n",
       "7926      250000.0  2017-06-01         2017          Jun             Q2   \n",
       "7927      235000.0  2017-06-01         2017          Jun             Q2   \n",
       "7928      260000.0  2017-06-01         2017          Jun             Q2   \n",
       "7929      260000.0  2017-06-01         2017          Jun             Q2   \n",
       "\n",
       "      lease_commence_year  storey_range        town      flat_model  \\\n",
       "7925                 1986             2  ANG MO KIO        IMPROVED   \n",
       "7926                 1978             2  ANG MO KIO        IMPROVED   \n",
       "7927                 1976             2  ANG MO KIO  NEW GENERATION   \n",
       "7928                 1980             2  ANG MO KIO  NEW GENERATION   \n",
       "7929                 1981             0  ANG MO KIO  NEW GENERATION   \n",
       "\n",
       "      floor_area_sqm  \n",
       "7925            45.0  \n",
       "7926            44.0  \n",
       "7927            67.0  \n",
       "7928            68.0  \n",
       "7929            68.0  "
      ]
     },
     "execution_count": 29,
     "metadata": {},
     "output_type": "execute_result"
    }
   ],
   "source": [
    "feature_baseline = feature_candidates_rearranged.iloc[:,:10]\n",
    "feature_baseline.head()"
   ]
  },
  {
   "cell_type": "code",
   "execution_count": 30,
   "metadata": {},
   "outputs": [],
   "source": [
    "feature_sarima = feature_candidates_rearranged.copy()"
   ]
  },
  {
   "cell_type": "code",
   "execution_count": 31,
   "metadata": {},
   "outputs": [
    {
     "name": "stdout",
     "output_type": "stream",
     "text": [
      "Stored 'feature_baseline' (DataFrame)\n",
      "Stored 'feature_sarima' (DataFrame)\n"
     ]
    }
   ],
   "source": [
    "%store feature_baseline\n",
    "%store feature_sarima"
   ]
  }
 ],
 "metadata": {
  "kernelspec": {
   "display_name": "Python 3",
   "language": "python",
   "name": "python3"
  },
  "language_info": {
   "codemirror_mode": {
    "name": "ipython",
    "version": 3
   },
   "file_extension": ".py",
   "mimetype": "text/x-python",
   "name": "python",
   "nbconvert_exporter": "python",
   "pygments_lexer": "ipython3",
   "version": "3.8.3"
  }
 },
 "nbformat": 4,
 "nbformat_minor": 4
}
